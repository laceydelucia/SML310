{
 "cells": [
  {
   "cell_type": "code",
   "execution_count": 4,
   "id": "f651ee12",
   "metadata": {},
   "outputs": [
    {
     "data": {
      "text/html": [
       "        <script type=\"text/javascript\">\n",
       "        window.PlotlyConfig = {MathJaxConfig: 'local'};\n",
       "        if (window.MathJax && window.MathJax.Hub && window.MathJax.Hub.Config) {window.MathJax.Hub.Config({SVG: {font: \"STIX-Web\"}});}\n",
       "        if (typeof require !== 'undefined') {\n",
       "        require.undef(\"plotly\");\n",
       "        requirejs.config({\n",
       "            paths: {\n",
       "                'plotly': ['https://cdn.plot.ly/plotly-2.12.1.min']\n",
       "            }\n",
       "        });\n",
       "        require(['plotly'], function(Plotly) {\n",
       "            window._Plotly = Plotly;\n",
       "        });\n",
       "        }\n",
       "        </script>\n",
       "        "
      ]
     },
     "metadata": {},
     "output_type": "display_data"
    }
   ],
   "source": [
    "from IPython.core.interactiveshell import InteractiveShell\n",
    "InteractiveShell.ast_node_interactivity = \"all\"\n",
    "import warnings\n",
    "warnings.filterwarnings(\"ignore\")\n",
    "\n",
    "import pandas as pd\n",
    "import datetime\n",
    "import numpy as np\n",
    "from matplotlib import pyplot as plt\n",
    "import plotly.express as px\n",
    "from plotly.offline import init_notebook_mode, iplot\n",
    "init_notebook_mode(connected=True)\n",
    "from statsmodels.tsa.seasonal import seasonal_decompose\n",
    "from statsmodels.tsa.stattools import adfuller\n",
    "from statsmodels.tsa.stattools import grangercausalitytests\n",
    "from statsmodels.graphics.tsaplots import plot_acf, plot_pacf\n",
    "from statsmodels.tsa.arima.model import ARIMA\n",
    "from sklearn.metrics import mean_squared_error\n",
    "from sklearn.preprocessing import MinMaxScaler\n",
    "from math import sqrt\n",
    "from sklearn.metrics import mean_absolute_error as mae \n",
    "import tensorflow as tf\n",
    "from tensorflow.keras.models import Sequential\n",
    "from keras.layers import Dense\n",
    "from keras.layers import LSTM\n",
    "from keras.layers import Dropout\n",
    "from keras.callbacks import EarlyStopping\n",
    "\n",
    "np.random.seed(234)\n",
    "tf.random.set_seed(234)"
   ]
  },
  {
   "cell_type": "code",
   "execution_count": 5,
   "id": "a3261fab",
   "metadata": {},
   "outputs": [],
   "source": [
    "##https://machinelearningmastery.com/multivariate-time-series-forecasting-lstms-keras/\n",
    "##https://www.kaggle.com/code/calven22/forecasting-inflation-with-arima-and-lstm"
   ]
  },
  {
   "cell_type": "code",
   "execution_count": 24,
   "id": "08eeb330",
   "metadata": {},
   "outputs": [
    {
     "data": {
      "text/html": [
       "<div>\n",
       "<style scoped>\n",
       "    .dataframe tbody tr th:only-of-type {\n",
       "        vertical-align: middle;\n",
       "    }\n",
       "\n",
       "    .dataframe tbody tr th {\n",
       "        vertical-align: top;\n",
       "    }\n",
       "\n",
       "    .dataframe thead th {\n",
       "        text-align: right;\n",
       "    }\n",
       "</style>\n",
       "<table border=\"1\" class=\"dataframe\">\n",
       "  <thead>\n",
       "    <tr style=\"text-align: right;\">\n",
       "      <th></th>\n",
       "      <th>OIL</th>\n",
       "      <th>PersonalExpenditure</th>\n",
       "      <th>RealDisposableIncome</th>\n",
       "      <th>M2REAL</th>\n",
       "      <th>Unemployment</th>\n",
       "      <th>InterestRate</th>\n",
       "      <th>FoodIndex</th>\n",
       "    </tr>\n",
       "  </thead>\n",
       "  <tbody>\n",
       "    <tr>\n",
       "      <th>0</th>\n",
       "      <td>13.900</td>\n",
       "      <td>306.1</td>\n",
       "      <td>2318.4</td>\n",
       "      <td>987.9</td>\n",
       "      <td>6.0</td>\n",
       "      <td>2.48</td>\n",
       "      <td>29.800</td>\n",
       "    </tr>\n",
       "    <tr>\n",
       "      <th>1</th>\n",
       "      <td>13.900</td>\n",
       "      <td>309.6</td>\n",
       "      <td>2325.4</td>\n",
       "      <td>992.1</td>\n",
       "      <td>5.9</td>\n",
       "      <td>2.43</td>\n",
       "      <td>29.700</td>\n",
       "    </tr>\n",
       "    <tr>\n",
       "      <th>2</th>\n",
       "      <td>14.000</td>\n",
       "      <td>312.7</td>\n",
       "      <td>2338.7</td>\n",
       "      <td>998.3</td>\n",
       "      <td>5.6</td>\n",
       "      <td>2.80</td>\n",
       "      <td>29.500</td>\n",
       "    </tr>\n",
       "    <tr>\n",
       "      <th>3</th>\n",
       "      <td>14.000</td>\n",
       "      <td>312.2</td>\n",
       "      <td>2353.8</td>\n",
       "      <td>1001.0</td>\n",
       "      <td>5.2</td>\n",
       "      <td>2.96</td>\n",
       "      <td>29.500</td>\n",
       "    </tr>\n",
       "    <tr>\n",
       "      <th>4</th>\n",
       "      <td>14.000</td>\n",
       "      <td>316.1</td>\n",
       "      <td>2366.6</td>\n",
       "      <td>1006.2</td>\n",
       "      <td>5.1</td>\n",
       "      <td>2.90</td>\n",
       "      <td>29.500</td>\n",
       "    </tr>\n",
       "    <tr>\n",
       "      <th>...</th>\n",
       "      <td>...</td>\n",
       "      <td>...</td>\n",
       "      <td>...</td>\n",
       "      <td>...</td>\n",
       "      <td>...</td>\n",
       "      <td>...</td>\n",
       "      <td>...</td>\n",
       "    </tr>\n",
       "    <tr>\n",
       "      <th>777</th>\n",
       "      <td>396.278</td>\n",
       "      <td>18826.8</td>\n",
       "      <td>16847.8</td>\n",
       "      <td>6730.6</td>\n",
       "      <td>3.8</td>\n",
       "      <td>5.33</td>\n",
       "      <td>325.731</td>\n",
       "    </tr>\n",
       "    <tr>\n",
       "      <th>778</th>\n",
       "      <td>392.414</td>\n",
       "      <td>18903.0</td>\n",
       "      <td>16912.1</td>\n",
       "      <td>6728.3</td>\n",
       "      <td>3.7</td>\n",
       "      <td>5.33</td>\n",
       "      <td>325.172</td>\n",
       "    </tr>\n",
       "    <tr>\n",
       "      <th>779</th>\n",
       "      <td>382.583</td>\n",
       "      <td>19013.7</td>\n",
       "      <td>16946.5</td>\n",
       "      <td>6732.5</td>\n",
       "      <td>3.7</td>\n",
       "      <td>5.33</td>\n",
       "      <td>325.409</td>\n",
       "    </tr>\n",
       "    <tr>\n",
       "      <th>780</th>\n",
       "      <td>373.663</td>\n",
       "      <td>19043.6</td>\n",
       "      <td>16946.7</td>\n",
       "      <td>6713.3</td>\n",
       "      <td>3.7</td>\n",
       "      <td>5.33</td>\n",
       "      <td>327.327</td>\n",
       "    </tr>\n",
       "    <tr>\n",
       "      <th>781</th>\n",
       "      <td>376.162</td>\n",
       "      <td>19189.0</td>\n",
       "      <td>16931.6</td>\n",
       "      <td>6681.7</td>\n",
       "      <td>3.9</td>\n",
       "      <td>5.33</td>\n",
       "      <td>327.731</td>\n",
       "    </tr>\n",
       "  </tbody>\n",
       "</table>\n",
       "<p>782 rows × 7 columns</p>\n",
       "</div>"
      ],
      "text/plain": [
       "         OIL  PersonalExpenditure  RealDisposableIncome  M2REAL  Unemployment  \\\n",
       "0     13.900                306.1                2318.4   987.9           6.0   \n",
       "1     13.900                309.6                2325.4   992.1           5.9   \n",
       "2     14.000                312.7                2338.7   998.3           5.6   \n",
       "3     14.000                312.2                2353.8  1001.0           5.2   \n",
       "4     14.000                316.1                2366.6  1006.2           5.1   \n",
       "..       ...                  ...                   ...     ...           ...   \n",
       "777  396.278              18826.8               16847.8  6730.6           3.8   \n",
       "778  392.414              18903.0               16912.1  6728.3           3.7   \n",
       "779  382.583              19013.7               16946.5  6732.5           3.7   \n",
       "780  373.663              19043.6               16946.7  6713.3           3.7   \n",
       "781  376.162              19189.0               16931.6  6681.7           3.9   \n",
       "\n",
       "     InterestRate  FoodIndex  \n",
       "0            2.48     29.800  \n",
       "1            2.43     29.700  \n",
       "2            2.80     29.500  \n",
       "3            2.96     29.500  \n",
       "4            2.90     29.500  \n",
       "..            ...        ...  \n",
       "777          5.33    325.731  \n",
       "778          5.33    325.172  \n",
       "779          5.33    325.409  \n",
       "780          5.33    327.327  \n",
       "781          5.33    327.731  \n",
       "\n",
       "[782 rows x 7 columns]"
      ]
     },
     "execution_count": 24,
     "metadata": {},
     "output_type": "execute_result"
    }
   ],
   "source": [
    "dataset = pd.read_csv('InflationData.csv')\n",
    "values = dataset.values\n",
    "data = dataset.loc[:, dataset.columns != 'DATE']\n",
    "data"
   ]
  },
  {
   "cell_type": "code",
   "execution_count": 25,
   "id": "f58e5201",
   "metadata": {},
   "outputs": [
    {
     "data": {
      "text/html": [
       "<div>\n",
       "<style scoped>\n",
       "    .dataframe tbody tr th:only-of-type {\n",
       "        vertical-align: middle;\n",
       "    }\n",
       "\n",
       "    .dataframe tbody tr th {\n",
       "        vertical-align: top;\n",
       "    }\n",
       "\n",
       "    .dataframe thead th {\n",
       "        text-align: right;\n",
       "    }\n",
       "</style>\n",
       "<table border=\"1\" class=\"dataframe\">\n",
       "  <thead>\n",
       "    <tr style=\"text-align: right;\">\n",
       "      <th></th>\n",
       "      <th>Unemployment</th>\n",
       "      <th>InterestRate</th>\n",
       "      <th>FoodIndex</th>\n",
       "    </tr>\n",
       "  </thead>\n",
       "  <tbody>\n",
       "    <tr>\n",
       "      <th>0</th>\n",
       "      <td>6.0</td>\n",
       "      <td>2.48</td>\n",
       "      <td>29.800</td>\n",
       "    </tr>\n",
       "    <tr>\n",
       "      <th>1</th>\n",
       "      <td>5.9</td>\n",
       "      <td>2.43</td>\n",
       "      <td>29.700</td>\n",
       "    </tr>\n",
       "    <tr>\n",
       "      <th>2</th>\n",
       "      <td>5.6</td>\n",
       "      <td>2.80</td>\n",
       "      <td>29.500</td>\n",
       "    </tr>\n",
       "    <tr>\n",
       "      <th>3</th>\n",
       "      <td>5.2</td>\n",
       "      <td>2.96</td>\n",
       "      <td>29.500</td>\n",
       "    </tr>\n",
       "    <tr>\n",
       "      <th>4</th>\n",
       "      <td>5.1</td>\n",
       "      <td>2.90</td>\n",
       "      <td>29.500</td>\n",
       "    </tr>\n",
       "    <tr>\n",
       "      <th>...</th>\n",
       "      <td>...</td>\n",
       "      <td>...</td>\n",
       "      <td>...</td>\n",
       "    </tr>\n",
       "    <tr>\n",
       "      <th>777</th>\n",
       "      <td>3.8</td>\n",
       "      <td>5.33</td>\n",
       "      <td>325.731</td>\n",
       "    </tr>\n",
       "    <tr>\n",
       "      <th>778</th>\n",
       "      <td>3.7</td>\n",
       "      <td>5.33</td>\n",
       "      <td>325.172</td>\n",
       "    </tr>\n",
       "    <tr>\n",
       "      <th>779</th>\n",
       "      <td>3.7</td>\n",
       "      <td>5.33</td>\n",
       "      <td>325.409</td>\n",
       "    </tr>\n",
       "    <tr>\n",
       "      <th>780</th>\n",
       "      <td>3.7</td>\n",
       "      <td>5.33</td>\n",
       "      <td>327.327</td>\n",
       "    </tr>\n",
       "    <tr>\n",
       "      <th>781</th>\n",
       "      <td>3.9</td>\n",
       "      <td>5.33</td>\n",
       "      <td>327.731</td>\n",
       "    </tr>\n",
       "  </tbody>\n",
       "</table>\n",
       "<p>782 rows × 3 columns</p>\n",
       "</div>"
      ],
      "text/plain": [
       "     Unemployment  InterestRate  FoodIndex\n",
       "0             6.0          2.48     29.800\n",
       "1             5.9          2.43     29.700\n",
       "2             5.6          2.80     29.500\n",
       "3             5.2          2.96     29.500\n",
       "4             5.1          2.90     29.500\n",
       "..            ...           ...        ...\n",
       "777           3.8          5.33    325.731\n",
       "778           3.7          5.33    325.172\n",
       "779           3.7          5.33    325.409\n",
       "780           3.7          5.33    327.327\n",
       "781           3.9          5.33    327.731\n",
       "\n",
       "[782 rows x 3 columns]"
      ]
     },
     "execution_count": 25,
     "metadata": {},
     "output_type": "execute_result"
    }
   ],
   "source": [
    "data = data.drop(columns=['OIL','RealDisposableIncome','M2REAL','PersonalExpenditure'])\n",
    "data"
   ]
  },
  {
   "cell_type": "code",
   "execution_count": 26,
   "id": "2346d78f",
   "metadata": {},
   "outputs": [
    {
     "data": {
      "text/html": [
       "<div>\n",
       "<style scoped>\n",
       "    .dataframe tbody tr th:only-of-type {\n",
       "        vertical-align: middle;\n",
       "    }\n",
       "\n",
       "    .dataframe tbody tr th {\n",
       "        vertical-align: top;\n",
       "    }\n",
       "\n",
       "    .dataframe thead th {\n",
       "        text-align: right;\n",
       "    }\n",
       "</style>\n",
       "<table border=\"1\" class=\"dataframe\">\n",
       "  <thead>\n",
       "    <tr style=\"text-align: right;\">\n",
       "      <th></th>\n",
       "      <th>var1(t-1)</th>\n",
       "      <th>var2(t-1)</th>\n",
       "      <th>var3(t-1)</th>\n",
       "      <th>var1(t)</th>\n",
       "      <th>var2(t)</th>\n",
       "      <th>var3(t)</th>\n",
       "    </tr>\n",
       "  </thead>\n",
       "  <tbody>\n",
       "    <tr>\n",
       "      <th>1</th>\n",
       "      <td>0.228070</td>\n",
       "      <td>0.127559</td>\n",
       "      <td>0.001341</td>\n",
       "      <td>0.219298</td>\n",
       "      <td>0.124934</td>\n",
       "      <td>0.001006</td>\n",
       "    </tr>\n",
       "    <tr>\n",
       "      <th>2</th>\n",
       "      <td>0.219298</td>\n",
       "      <td>0.124934</td>\n",
       "      <td>0.001006</td>\n",
       "      <td>0.192982</td>\n",
       "      <td>0.144357</td>\n",
       "      <td>0.000335</td>\n",
       "    </tr>\n",
       "    <tr>\n",
       "      <th>3</th>\n",
       "      <td>0.192982</td>\n",
       "      <td>0.144357</td>\n",
       "      <td>0.000335</td>\n",
       "      <td>0.157895</td>\n",
       "      <td>0.152756</td>\n",
       "      <td>0.000335</td>\n",
       "    </tr>\n",
       "    <tr>\n",
       "      <th>4</th>\n",
       "      <td>0.157895</td>\n",
       "      <td>0.152756</td>\n",
       "      <td>0.000335</td>\n",
       "      <td>0.149123</td>\n",
       "      <td>0.149606</td>\n",
       "      <td>0.000335</td>\n",
       "    </tr>\n",
       "    <tr>\n",
       "      <th>5</th>\n",
       "      <td>0.149123</td>\n",
       "      <td>0.149606</td>\n",
       "      <td>0.000335</td>\n",
       "      <td>0.140351</td>\n",
       "      <td>0.175328</td>\n",
       "      <td>0.001341</td>\n",
       "    </tr>\n",
       "    <tr>\n",
       "      <th>...</th>\n",
       "      <td>...</td>\n",
       "      <td>...</td>\n",
       "      <td>...</td>\n",
       "      <td>...</td>\n",
       "      <td>...</td>\n",
       "      <td>...</td>\n",
       "    </tr>\n",
       "    <tr>\n",
       "      <th>777</th>\n",
       "      <td>0.035088</td>\n",
       "      <td>0.277165</td>\n",
       "      <td>0.989854</td>\n",
       "      <td>0.035088</td>\n",
       "      <td>0.277165</td>\n",
       "      <td>0.993296</td>\n",
       "    </tr>\n",
       "    <tr>\n",
       "      <th>778</th>\n",
       "      <td>0.035088</td>\n",
       "      <td>0.277165</td>\n",
       "      <td>0.993296</td>\n",
       "      <td>0.026316</td>\n",
       "      <td>0.277165</td>\n",
       "      <td>0.991422</td>\n",
       "    </tr>\n",
       "    <tr>\n",
       "      <th>779</th>\n",
       "      <td>0.026316</td>\n",
       "      <td>0.277165</td>\n",
       "      <td>0.991422</td>\n",
       "      <td>0.026316</td>\n",
       "      <td>0.277165</td>\n",
       "      <td>0.992217</td>\n",
       "    </tr>\n",
       "    <tr>\n",
       "      <th>780</th>\n",
       "      <td>0.026316</td>\n",
       "      <td>0.277165</td>\n",
       "      <td>0.992217</td>\n",
       "      <td>0.026316</td>\n",
       "      <td>0.277165</td>\n",
       "      <td>0.998646</td>\n",
       "    </tr>\n",
       "    <tr>\n",
       "      <th>781</th>\n",
       "      <td>0.026316</td>\n",
       "      <td>0.277165</td>\n",
       "      <td>0.998646</td>\n",
       "      <td>0.043860</td>\n",
       "      <td>0.277165</td>\n",
       "      <td>1.000000</td>\n",
       "    </tr>\n",
       "  </tbody>\n",
       "</table>\n",
       "<p>781 rows × 6 columns</p>\n",
       "</div>"
      ],
      "text/plain": [
       "     var1(t-1)  var2(t-1)  var3(t-1)   var1(t)   var2(t)   var3(t)\n",
       "1     0.228070   0.127559   0.001341  0.219298  0.124934  0.001006\n",
       "2     0.219298   0.124934   0.001006  0.192982  0.144357  0.000335\n",
       "3     0.192982   0.144357   0.000335  0.157895  0.152756  0.000335\n",
       "4     0.157895   0.152756   0.000335  0.149123  0.149606  0.000335\n",
       "5     0.149123   0.149606   0.000335  0.140351  0.175328  0.001341\n",
       "..         ...        ...        ...       ...       ...       ...\n",
       "777   0.035088   0.277165   0.989854  0.035088  0.277165  0.993296\n",
       "778   0.035088   0.277165   0.993296  0.026316  0.277165  0.991422\n",
       "779   0.026316   0.277165   0.991422  0.026316  0.277165  0.992217\n",
       "780   0.026316   0.277165   0.992217  0.026316  0.277165  0.998646\n",
       "781   0.026316   0.277165   0.998646  0.043860  0.277165  1.000000\n",
       "\n",
       "[781 rows x 6 columns]"
      ]
     },
     "execution_count": 26,
     "metadata": {},
     "output_type": "execute_result"
    }
   ],
   "source": [
    "from math import sqrt\n",
    "from numpy import concatenate\n",
    "from matplotlib import pyplot\n",
    "from pandas import read_csv\n",
    "from pandas import DataFrame\n",
    "from pandas import concat\n",
    "from sklearn.preprocessing import MinMaxScaler\n",
    "from sklearn.preprocessing import LabelEncoder\n",
    "from sklearn.metrics import mean_squared_error\n",
    "from keras.models import Sequential\n",
    "from keras.layers import Dense\n",
    "from keras.layers import LSTM\n",
    " \n",
    "# convert series to supervised learning\n",
    "def series_to_supervised(data, n_in=1, n_out=1, dropnan=True):\n",
    "\tn_vars = 1 if type(data) is list else data.shape[1]\n",
    "\tdf = DataFrame(data)\n",
    "\tcols, names = list(), list()\n",
    "\t# input sequence (t-n, ... t-1)\n",
    "\tfor i in range(n_in, 0, -1):\n",
    "\t\tcols.append(df.shift(i))\n",
    "\t\tnames += [('var%d(t-%d)' % (j+1, i)) for j in range(n_vars)]\n",
    "\t# forecast sequence (t, t+1, ... t+n)\n",
    "\tfor i in range(0, n_out):\n",
    "\t\tcols.append(df.shift(-i))\n",
    "\t\tif i == 0:\n",
    "\t\t\tnames += [('var%d(t)' % (j+1)) for j in range(n_vars)]\n",
    "\t\telse:\n",
    "\t\t\tnames += [('var%d(t+%d)' % (j+1, i)) for j in range(n_vars)]\n",
    "\t# put it all together\n",
    "\tagg = concat(cols, axis=1)\n",
    "\tagg.columns = names\n",
    "\t# drop rows with NaN values\n",
    "\tif dropnan:\n",
    "\t\tagg.dropna(inplace=True)\n",
    "\treturn agg\n",
    " \n",
    "# load dataset\n",
    "\n",
    "\n",
    "# ensure all data is float\n",
    "\n",
    "# normalize features\n",
    "scaler = MinMaxScaler(feature_range=(0, 1))\n",
    "scaled = scaler.fit_transform(data)\n",
    "# frame as supervised learning\n",
    "\n",
    "\n",
    "reframed = series_to_supervised(scaled, 1, 1)\n",
    "reframed"
   ]
  },
  {
   "cell_type": "code",
   "execution_count": 27,
   "id": "c6791231",
   "metadata": {},
   "outputs": [
    {
     "data": {
      "text/html": [
       "<div>\n",
       "<style scoped>\n",
       "    .dataframe tbody tr th:only-of-type {\n",
       "        vertical-align: middle;\n",
       "    }\n",
       "\n",
       "    .dataframe tbody tr th {\n",
       "        vertical-align: top;\n",
       "    }\n",
       "\n",
       "    .dataframe thead th {\n",
       "        text-align: right;\n",
       "    }\n",
       "</style>\n",
       "<table border=\"1\" class=\"dataframe\">\n",
       "  <thead>\n",
       "    <tr style=\"text-align: right;\">\n",
       "      <th></th>\n",
       "      <th>var1(t-1)</th>\n",
       "      <th>var2(t-1)</th>\n",
       "      <th>var3(t-1)</th>\n",
       "      <th>var3(t)</th>\n",
       "    </tr>\n",
       "  </thead>\n",
       "  <tbody>\n",
       "    <tr>\n",
       "      <th>1</th>\n",
       "      <td>0.228070</td>\n",
       "      <td>0.127559</td>\n",
       "      <td>0.001341</td>\n",
       "      <td>0.001006</td>\n",
       "    </tr>\n",
       "    <tr>\n",
       "      <th>2</th>\n",
       "      <td>0.219298</td>\n",
       "      <td>0.124934</td>\n",
       "      <td>0.001006</td>\n",
       "      <td>0.000335</td>\n",
       "    </tr>\n",
       "    <tr>\n",
       "      <th>3</th>\n",
       "      <td>0.192982</td>\n",
       "      <td>0.144357</td>\n",
       "      <td>0.000335</td>\n",
       "      <td>0.000335</td>\n",
       "    </tr>\n",
       "    <tr>\n",
       "      <th>4</th>\n",
       "      <td>0.157895</td>\n",
       "      <td>0.152756</td>\n",
       "      <td>0.000335</td>\n",
       "      <td>0.000335</td>\n",
       "    </tr>\n",
       "    <tr>\n",
       "      <th>5</th>\n",
       "      <td>0.149123</td>\n",
       "      <td>0.149606</td>\n",
       "      <td>0.000335</td>\n",
       "      <td>0.001341</td>\n",
       "    </tr>\n",
       "  </tbody>\n",
       "</table>\n",
       "</div>"
      ],
      "text/plain": [
       "   var1(t-1)  var2(t-1)  var3(t-1)   var3(t)\n",
       "1   0.228070   0.127559   0.001341  0.001006\n",
       "2   0.219298   0.124934   0.001006  0.000335\n",
       "3   0.192982   0.144357   0.000335  0.000335\n",
       "4   0.157895   0.152756   0.000335  0.000335\n",
       "5   0.149123   0.149606   0.000335  0.001341"
      ]
     },
     "execution_count": 27,
     "metadata": {},
     "output_type": "execute_result"
    }
   ],
   "source": [
    "reframed.drop(reframed.columns[[3,4]], axis=1, inplace=True)\n",
    "reframed.head()"
   ]
  },
  {
   "cell_type": "code",
   "execution_count": 28,
   "id": "10c86055",
   "metadata": {},
   "outputs": [
    {
     "name": "stdout",
     "output_type": "stream",
     "text": [
      "157\n"
     ]
    }
   ],
   "source": [
    "n_train_hours = int(len(values) *0.8)\n",
    "print(len(values)-n_train_hours)"
   ]
  },
  {
   "cell_type": "code",
   "execution_count": 29,
   "id": "a9dc8871",
   "metadata": {},
   "outputs": [
    {
     "name": "stdout",
     "output_type": "stream",
     "text": [
      "(624, 1, 3) (624,) (157, 1, 3) (157,)\n"
     ]
    }
   ],
   "source": [
    "\n",
    "# split into train and test sets\n",
    "values = reframed.values\n",
    "n_train_hours = int(len(values) *0.8)\n",
    "\n",
    "train = values[:n_train_hours, :]\n",
    "test = values[n_train_hours:, :]\n",
    "# split into input and outputs\n",
    "train_X, train_y = train[:, :-1], train[:, -1]\n",
    "test_X, test_y = test[:, :-1], test[:, -1]\n",
    "# reshape input to be 3D [samples, timesteps, features]\n",
    "train_X = train_X.reshape((train_X.shape[0], 1, train_X.shape[1]))\n",
    "test_X = test_X.reshape((test_X.shape[0], 1, test_X.shape[1]))\n",
    "print(train_X.shape, train_y.shape, test_X.shape, test_y.shape)\n",
    " \n"
   ]
  },
  {
   "cell_type": "code",
   "execution_count": 30,
   "id": "4ca29fa9",
   "metadata": {},
   "outputs": [],
   "source": [
    "# design network\n",
    "model = Sequential()\n",
    "model.add(LSTM(100, input_shape=(train_X.shape[1], train_X.shape[2])))\n",
    "model.add(Dropout(0.25))\n",
    "model.add(Dense(1))\n",
    "model.compile(loss='mae', optimizer='adam')\n",
    "\n",
    "\n",
    " "
   ]
  },
  {
   "cell_type": "code",
   "execution_count": 31,
   "id": "a16872f6",
   "metadata": {},
   "outputs": [
    {
     "name": "stdout",
     "output_type": "stream",
     "text": [
      "Epoch 1/70\n",
      "9/9 - 1s - 119ms/step - loss: 0.2441 - val_loss: 0.7666\n",
      "Epoch 2/70\n",
      "9/9 - 0s - 6ms/step - loss: 0.2131 - val_loss: 0.7137\n",
      "Epoch 3/70\n",
      "9/9 - 0s - 5ms/step - loss: 0.1920 - val_loss: 0.6661\n",
      "Epoch 4/70\n",
      "9/9 - 0s - 5ms/step - loss: 0.1773 - val_loss: 0.6226\n",
      "Epoch 5/70\n",
      "9/9 - 0s - 5ms/step - loss: 0.1686 - val_loss: 0.5853\n",
      "Epoch 6/70\n",
      "9/9 - 0s - 5ms/step - loss: 0.1631 - val_loss: 0.5527\n",
      "Epoch 7/70\n",
      "9/9 - 0s - 5ms/step - loss: 0.1584 - val_loss: 0.5235\n",
      "Epoch 8/70\n",
      "9/9 - 0s - 6ms/step - loss: 0.1527 - val_loss: 0.4957\n",
      "Epoch 9/70\n",
      "9/9 - 0s - 6ms/step - loss: 0.1455 - val_loss: 0.4689\n",
      "Epoch 10/70\n",
      "9/9 - 0s - 5ms/step - loss: 0.1420 - val_loss: 0.4426\n",
      "Epoch 11/70\n",
      "9/9 - 0s - 6ms/step - loss: 0.1352 - val_loss: 0.4174\n",
      "Epoch 12/70\n",
      "9/9 - 0s - 5ms/step - loss: 0.1279 - val_loss: 0.3913\n",
      "Epoch 13/70\n",
      "9/9 - 0s - 5ms/step - loss: 0.1232 - val_loss: 0.3656\n",
      "Epoch 14/70\n",
      "9/9 - 0s - 5ms/step - loss: 0.1163 - val_loss: 0.3405\n",
      "Epoch 15/70\n",
      "9/9 - 0s - 5ms/step - loss: 0.1103 - val_loss: 0.3153\n",
      "Epoch 16/70\n",
      "9/9 - 0s - 5ms/step - loss: 0.1036 - val_loss: 0.2881\n",
      "Epoch 17/70\n",
      "9/9 - 0s - 5ms/step - loss: 0.0957 - val_loss: 0.2605\n",
      "Epoch 18/70\n",
      "9/9 - 0s - 5ms/step - loss: 0.0862 - val_loss: 0.2321\n",
      "Epoch 19/70\n",
      "9/9 - 0s - 5ms/step - loss: 0.0806 - val_loss: 0.2027\n",
      "Epoch 20/70\n",
      "9/9 - 0s - 5ms/step - loss: 0.0715 - val_loss: 0.1716\n",
      "Epoch 21/70\n",
      "9/9 - 0s - 5ms/step - loss: 0.0638 - val_loss: 0.1414\n",
      "Epoch 22/70\n",
      "9/9 - 0s - 5ms/step - loss: 0.0569 - val_loss: 0.1124\n",
      "Epoch 23/70\n",
      "9/9 - 0s - 5ms/step - loss: 0.0484 - val_loss: 0.0849\n",
      "Epoch 24/70\n",
      "9/9 - 0s - 5ms/step - loss: 0.0441 - val_loss: 0.0655\n",
      "Epoch 25/70\n",
      "9/9 - 0s - 5ms/step - loss: 0.0409 - val_loss: 0.0500\n",
      "Epoch 26/70\n",
      "9/9 - 0s - 5ms/step - loss: 0.0386 - val_loss: 0.0360\n",
      "Epoch 27/70\n",
      "9/9 - 0s - 5ms/step - loss: 0.0345 - val_loss: 0.0254\n",
      "Epoch 28/70\n",
      "9/9 - 0s - 5ms/step - loss: 0.0335 - val_loss: 0.0197\n",
      "Epoch 29/70\n",
      "9/9 - 0s - 5ms/step - loss: 0.0295 - val_loss: 0.0140\n",
      "Epoch 30/70\n",
      "9/9 - 0s - 5ms/step - loss: 0.0306 - val_loss: 0.0094\n",
      "Epoch 31/70\n",
      "9/9 - 0s - 5ms/step - loss: 0.0256 - val_loss: 0.0100\n",
      "Epoch 32/70\n",
      "9/9 - 0s - 5ms/step - loss: 0.0253 - val_loss: 0.0160\n",
      "Epoch 33/70\n",
      "9/9 - 0s - 5ms/step - loss: 0.0220 - val_loss: 0.0137\n",
      "Epoch 34/70\n",
      "9/9 - 0s - 5ms/step - loss: 0.0195 - val_loss: 0.0139\n",
      "Epoch 35/70\n",
      "9/9 - 0s - 5ms/step - loss: 0.0195 - val_loss: 0.0202\n",
      "Epoch 36/70\n",
      "9/9 - 0s - 5ms/step - loss: 0.0181 - val_loss: 0.0242\n",
      "Epoch 37/70\n",
      "9/9 - 0s - 5ms/step - loss: 0.0179 - val_loss: 0.0237\n",
      "Epoch 38/70\n",
      "9/9 - 0s - 5ms/step - loss: 0.0183 - val_loss: 0.0203\n",
      "Epoch 39/70\n",
      "9/9 - 0s - 5ms/step - loss: 0.0178 - val_loss: 0.0177\n",
      "Epoch 40/70\n",
      "9/9 - 0s - 5ms/step - loss: 0.0171 - val_loss: 0.0173\n",
      "Epoch 41/70\n",
      "9/9 - 0s - 6ms/step - loss: 0.0163 - val_loss: 0.0158\n",
      "Epoch 42/70\n",
      "9/9 - 0s - 5ms/step - loss: 0.0181 - val_loss: 0.0190\n",
      "Epoch 43/70\n",
      "9/9 - 0s - 5ms/step - loss: 0.0170 - val_loss: 0.0128\n",
      "Epoch 44/70\n",
      "9/9 - 0s - 5ms/step - loss: 0.0174 - val_loss: 0.0142\n",
      "Epoch 45/70\n",
      "9/9 - 0s - 5ms/step - loss: 0.0174 - val_loss: 0.0132\n",
      "Epoch 46/70\n",
      "9/9 - 0s - 5ms/step - loss: 0.0158 - val_loss: 0.0167\n",
      "Epoch 47/70\n",
      "9/9 - 0s - 5ms/step - loss: 0.0161 - val_loss: 0.0152\n",
      "Epoch 48/70\n",
      "9/9 - 0s - 5ms/step - loss: 0.0161 - val_loss: 0.0180\n",
      "Epoch 49/70\n",
      "9/9 - 0s - 5ms/step - loss: 0.0165 - val_loss: 0.0182\n",
      "Epoch 50/70\n",
      "9/9 - 0s - 5ms/step - loss: 0.0171 - val_loss: 0.0241\n",
      "Epoch 51/70\n",
      "9/9 - 0s - 5ms/step - loss: 0.0162 - val_loss: 0.0180\n",
      "Epoch 52/70\n",
      "9/9 - 0s - 5ms/step - loss: 0.0150 - val_loss: 0.0236\n",
      "Epoch 53/70\n",
      "9/9 - 0s - 5ms/step - loss: 0.0160 - val_loss: 0.0176\n",
      "Epoch 54/70\n",
      "9/9 - 0s - 5ms/step - loss: 0.0156 - val_loss: 0.0228\n",
      "Epoch 55/70\n",
      "9/9 - 0s - 5ms/step - loss: 0.0159 - val_loss: 0.0131\n",
      "Epoch 56/70\n",
      "9/9 - 0s - 5ms/step - loss: 0.0162 - val_loss: 0.0231\n",
      "Epoch 57/70\n",
      "9/9 - 0s - 5ms/step - loss: 0.0168 - val_loss: 0.0135\n",
      "Epoch 58/70\n",
      "9/9 - 0s - 5ms/step - loss: 0.0151 - val_loss: 0.0159\n",
      "Epoch 59/70\n",
      "9/9 - 0s - 5ms/step - loss: 0.0166 - val_loss: 0.0131\n",
      "Epoch 60/70\n",
      "9/9 - 0s - 5ms/step - loss: 0.0154 - val_loss: 0.0223\n",
      "Epoch 61/70\n",
      "9/9 - 0s - 5ms/step - loss: 0.0163 - val_loss: 0.0144\n",
      "Epoch 62/70\n",
      "9/9 - 0s - 5ms/step - loss: 0.0170 - val_loss: 0.0289\n",
      "Epoch 63/70\n",
      "9/9 - 0s - 5ms/step - loss: 0.0157 - val_loss: 0.0165\n",
      "Epoch 64/70\n",
      "9/9 - 0s - 5ms/step - loss: 0.0153 - val_loss: 0.0231\n",
      "Epoch 65/70\n",
      "9/9 - 0s - 5ms/step - loss: 0.0155 - val_loss: 0.0124\n",
      "Epoch 66/70\n",
      "9/9 - 0s - 5ms/step - loss: 0.0150 - val_loss: 0.0162\n",
      "Epoch 67/70\n",
      "9/9 - 0s - 5ms/step - loss: 0.0154 - val_loss: 0.0144\n",
      "Epoch 68/70\n",
      "9/9 - 0s - 5ms/step - loss: 0.0153 - val_loss: 0.0144\n",
      "Epoch 69/70\n",
      "9/9 - 0s - 5ms/step - loss: 0.0149 - val_loss: 0.0255\n",
      "Epoch 70/70\n",
      "9/9 - 0s - 5ms/step - loss: 0.0153 - val_loss: 0.0130\n"
     ]
    },
    {
     "data": {
      "text/plain": [
       "[<matplotlib.lines.Line2D at 0x15199954a9d0>]"
      ]
     },
     "execution_count": 31,
     "metadata": {},
     "output_type": "execute_result"
    },
    {
     "data": {
      "text/plain": [
       "[<matplotlib.lines.Line2D at 0x1519c746c4d0>]"
      ]
     },
     "execution_count": 31,
     "metadata": {},
     "output_type": "execute_result"
    },
    {
     "data": {
      "text/plain": [
       "<matplotlib.legend.Legend at 0x151999549810>"
      ]
     },
     "execution_count": 31,
     "metadata": {},
     "output_type": "execute_result"
    },
    {
     "data": {
      "image/png": "[encoded data removed]",
      "text/plain": [
       "<Figure size 640x480 with 1 Axes>"
      ]
     },
     "metadata": {},
     "output_type": "display_data"
    }
   ],
   "source": [
    "history = model.fit(train_X, train_y, epochs=70, batch_size=72, validation_data=(test_X, test_y), verbose=2, shuffle=False)\n",
    "# plot history\n",
    "pyplot.plot(history.history['loss'], label='train')\n",
    "pyplot.plot(history.history['val_loss'], label='test')\n",
    "pyplot.legend()\n",
    "pyplot.show()"
   ]
  },
  {
   "cell_type": "code",
   "execution_count": 32,
   "id": "837bc6c9",
   "metadata": {},
   "outputs": [
    {
     "name": "stdout",
     "output_type": "stream",
     "text": [
      "\u001b[1m4/4\u001b[0m \u001b[32m━━━━━━━━━━━━━━━━━━━━\u001b[0m\u001b[37m\u001b[0m \u001b[1m0s\u001b[0m 30ms/step\n",
      "\u001b[1m4/4\u001b[0m \u001b[32m━━━━━━━━━━━━━━━━━━━━\u001b[0m\u001b[37m\u001b[0m \u001b[1m0s\u001b[0m 736us/step\n",
      "Variable 1, Perturbation Effect: 0.014\n",
      "\u001b[1m4/4\u001b[0m \u001b[32m━━━━━━━━━━━━━━━━━━━━\u001b[0m\u001b[37m\u001b[0m \u001b[1m0s\u001b[0m 832us/step\n",
      "Variable 2, Perturbation Effect: 0.016\n",
      "\u001b[1m4/4\u001b[0m \u001b[32m━━━━━━━━━━━━━━━━━━━━\u001b[0m\u001b[37m\u001b[0m \u001b[1m0s\u001b[0m 670us/step\n",
      "Variable 3, Perturbation Effect: 0.655\n"
     ]
    }
   ],
   "source": [
    "n_features=3\n",
    "def feature_importance(model, g):\n",
    "    random_ind = np.random.choice(g.shape[0], 100, replace=False) # Randomly generate 100 numbers arange(218) \n",
    "    x = g[random_ind] #  Take 100 random sample from training set\n",
    "    orig_out = model.predict(x)\n",
    "    for i in range(n_features):  # iterate over the 7 features\n",
    "        new_x = x.copy()\n",
    "        perturbation_in = np.random.normal(0.0, 0.7, size=new_x.shape[:2]) # Draw random samples from normal distribution with sd = 0.7, this value is arbitary and would not affect the order of effect as its just introducing noise.\n",
    "        new_x[:, :, i] = new_x[:, :, i] + perturbation_in\n",
    "        perturbed_out = model.predict(new_x)\n",
    "        effect = ((orig_out - perturbed_out) ** 2).mean() ** 0.5\n",
    "        print(f'Variable {i+1}, Perturbation Effect: {effect:.3f}')\n",
    "        \n",
    "feature_importance(model,train_X)"
   ]
  },
  {
   "cell_type": "code",
   "execution_count": 33,
   "id": "325e3d42",
   "metadata": {},
   "outputs": [
    {
     "name": "stdout",
     "output_type": "stream",
     "text": [
      "\u001b[1m5/5\u001b[0m \u001b[32m━━━━━━━━━━━━━━━━━━━━\u001b[0m\u001b[37m\u001b[0m \u001b[1m0s\u001b[0m 677us/step\n",
      "Test RMSE: 0.011\n",
      "Mean absolute error : 0.0057494231154826495\n"
     ]
    }
   ],
   "source": [
    "# calculate RMSE\n",
    "yhat = model.predict(test_X)\n",
    "rmse = sqrt(mean_squared_error(test_y, yhat))\n",
    "print('Test RMSE: %.3f' % rmse)\n",
    "error = mae(test_y, yhat) \n",
    "  \n",
    "# display \n",
    "print(\"Mean absolute error : \" + str(error)) "
   ]
  },
  {
   "cell_type": "code",
   "execution_count": 34,
   "id": "a03af62e",
   "metadata": {},
   "outputs": [],
   "source": [
    "test_X = test_X.reshape((test_X.shape[0], test_X.shape[2]))\n",
    "# invert scaling for forecast\n"
   ]
  },
  {
   "cell_type": "code",
   "execution_count": 35,
   "id": "0e0db4c9",
   "metadata": {},
   "outputs": [
    {
     "data": {
      "text/plain": [
       "(782, 3)"
      ]
     },
     "execution_count": 35,
     "metadata": {},
     "output_type": "execute_result"
    }
   ],
   "source": [
    "data.shape\n",
    "inv_yhat = concatenate((test_X[:, 0:2],yhat), axis=1)\n",
    "inv_yhat = scaler.inverse_transform(inv_yhat)\n",
    "\n",
    "\n",
    "# invert caling for actual\n",
    "test_y = test_y.reshape((len(test_y), 1))\n",
    "inv_y = concatenate((test_X[:, 0:2],test_y), axis=1)\n",
    "inv_y = scaler.inverse_transform(inv_y)\n",
    "inv_y = inv_y[:, -1:]\n",
    "inv_yhat = inv_yhat[:, -1:]"
   ]
  },
  {
   "cell_type": "code",
   "execution_count": 36,
   "id": "7497326e",
   "metadata": {},
   "outputs": [
    {
     "name": "stdout",
     "output_type": "stream",
     "text": [
      "Test RMSE: 3.246\n",
      "Mean absolute error : 1.7152311474650492\n"
     ]
    }
   ],
   "source": [
    "# calculate RMSE\n",
    "rmse = sqrt(mean_squared_error(inv_y, inv_yhat))\n",
    "print('Test RMSE: %.3f' % rmse)\n",
    "error = mae(inv_y, inv_yhat) \n",
    "  \n",
    "# display \n",
    "print(\"Mean absolute error : \" + str(error)) "
   ]
  },
  {
   "cell_type": "code",
   "execution_count": 37,
   "id": "7da2f15c",
   "metadata": {},
   "outputs": [
    {
     "data": {
      "text/plain": [
       "625     2/1/11\n",
       "626     3/1/11\n",
       "627     4/1/11\n",
       "628     5/1/11\n",
       "629     6/1/11\n",
       "        ...   \n",
       "777    10/1/23\n",
       "778    11/1/23\n",
       "779    12/1/23\n",
       "780     1/1/24\n",
       "781     2/1/24\n",
       "Name: DATE, Length: 157, dtype: object"
      ]
     },
     "execution_count": 37,
     "metadata": {},
     "output_type": "execute_result"
    }
   ],
   "source": [
    "startDate = int(len(values) *0.8)+1\n",
    "dates = dataset['DATE'][startDate:]\n",
    "dates"
   ]
  },
  {
   "cell_type": "code",
   "execution_count": 38,
   "id": "9de2da28",
   "metadata": {},
   "outputs": [],
   "source": [
    "date = pd.date_range('2/1/2011', periods=len(dates), freq='m')"
   ]
  },
  {
   "cell_type": "code",
   "execution_count": 39,
   "id": "744b3f6e",
   "metadata": {},
   "outputs": [
    {
     "data": {
      "text/plain": [
       "[<matplotlib.lines.Line2D at 0x1519c735a9d0>]"
      ]
     },
     "execution_count": 39,
     "metadata": {},
     "output_type": "execute_result"
    },
    {
     "data": {
      "text/plain": [
       "[<matplotlib.lines.Line2D at 0x1519c7417d90>]"
      ]
     },
     "execution_count": 39,
     "metadata": {},
     "output_type": "execute_result"
    },
    {
     "data": {
      "text/plain": [
       "Text(0.5, 1.0, 'True vs Predicted Food Inflation (Food Index t-1)')"
      ]
     },
     "execution_count": 39,
     "metadata": {},
     "output_type": "execute_result"
    },
    {
     "data": {
      "text/plain": [
       "Text(0.5, 0, 'Dates')"
      ]
     },
     "execution_count": 39,
     "metadata": {},
     "output_type": "execute_result"
    },
    {
     "data": {
      "text/plain": [
       "Text(0, 0.5, 'Food Index')"
      ]
     },
     "execution_count": 39,
     "metadata": {},
     "output_type": "execute_result"
    },
    {
     "data": {
      "text/plain": [
       "(array([14610., 15340., 16071., 16801., 17532., 18262., 18993., 19723.]),\n",
       " [Text(14610.0, 0, '2010'),\n",
       "  Text(15340.0, 0, '2012'),\n",
       "  Text(16071.0, 0, '2014'),\n",
       "  Text(16801.0, 0, '2016'),\n",
       "  Text(17532.0, 0, '2018'),\n",
       "  Text(18262.0, 0, '2020'),\n",
       "  Text(18993.0, 0, '2022'),\n",
       "  Text(19723.0, 0, '2024')])"
      ]
     },
     "execution_count": 39,
     "metadata": {},
     "output_type": "execute_result"
    },
    {
     "data": {
      "image/png": "[encoded data removed]",
      "text/plain": [
       "<Figure size 640x480 with 1 Axes>"
      ]
     },
     "metadata": {},
     "output_type": "display_data"
    }
   ],
   "source": [
    "plt.plot(date, inv_y)\n",
    "plt.plot(date, inv_yhat)\n",
    "plt.title(\"True vs Predicted Food Inflation (Food Index t-1)\")\n",
    "plt.xlabel(\"Dates\")\n",
    "plt.ylabel(\"Food Index\")\n",
    "plt.xticks(rotation='vertical')\n"
   ]
  },
  {
   "cell_type": "code",
   "execution_count": null,
   "id": "92458327",
   "metadata": {},
   "outputs": [],
   "source": []
  },
  {
   "cell_type": "code",
   "execution_count": 40,
   "id": "f451c363",
   "metadata": {},
   "outputs": [],
   "source": [
    "df = pd.DataFrame()\n",
    "df['date'] = dates\n",
    "df['inv_y'] = inv_y\n",
    "df['inv_yhat'] = inv_yhat\n",
    "df.to_csv(\"FoodInflationPred_FI_IR_UE.csv\")\n",
    "model.save(\"InflationLSTM_FI_IR_UE.keras\")"
   ]
  },
  {
   "cell_type": "code",
   "execution_count": null,
   "id": "34f592f5",
   "metadata": {},
   "outputs": [],
   "source": []
  }
 ],
 "metadata": {
  "kernelspec": {
   "display_name": "Python 3 (ipykernel)",
   "language": "python",
   "name": "python3"
  },
  "language_info": {
   "codemirror_mode": {
    "name": "ipython",
    "version": 3
   },
   "file_extension": ".py",
   "mimetype": "text/x-python",
   "name": "python",
   "nbconvert_exporter": "python",
   "pygments_lexer": "ipython3",
   "version": "3.11.5"
  }
 },
 "nbformat": 4,
 "nbformat_minor": 5
}
